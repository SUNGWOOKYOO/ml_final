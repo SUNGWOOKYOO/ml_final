{
 "cells": [
  {
   "cell_type": "code",
   "execution_count": 3,
   "metadata": {},
   "outputs": [],
   "source": [
    "import tensorflow as tf\n",
    "import pandas as pd\n",
    "import numpy as np\n",
    "import time\n",
    "import os\n",
    "from sklearn.decomposition import PCA\n",
    "from sklearn.cluster import KMeans\n",
    "from numpy import linalg as la\n",
    "\n",
    "## set parameters\n",
    "#ROOT = 'PATH/TO/data/processed/'\n",
    "ROOT = '/home/kddlab/swyoo/data/'\n",
    "PATH_TO_TRAIN = ROOT + 'train.csv'\n",
    "PATH_TO_TEST = ROOT + 'test.csv'\n",
    "PATH_TO_ITEM = ROOT + 'item_metadata.csv'\n",
    "checkpoint_dir = './checkpoint'\n",
    "if not os.path.exists(checkpoint_dir): os.mkdir(checkpoint_dir)"
   ]
  },
  {
   "cell_type": "code",
   "execution_count": 5,
   "metadata": {},
   "outputs": [],
   "source": [
    "## load data\n",
    "train = pd.read_csv(PATH_TO_TRAIN)\n",
    "test = pd.read_csv(PATH_TO_TEST)\n",
    "item = pd.read_csv(PATH_TO_ITEM)"
   ]
  },
  {
   "cell_type": "code",
   "execution_count": 6,
   "metadata": {},
   "outputs": [],
   "source": [
    "def encoding(data):\n",
    "    platforms = data.platform.unique()\n",
    "    n_platforms = len(platforms)\n",
    "    platformsIdx = pd.Series(data=np.arange(n_platforms), index=platforms).to_dict()\n",
    "    platformsIdx_inv = dict([(v, k) for k, v in platformsIdx.items()])\n",
    "    users = data.user_id.unique()\n",
    "    n_users = len(users)\n",
    "    usersIdx = pd.Series(data=np.arange(n_users), index=users).to_dict()\n",
    "    usersIdx_inv = dict([(v, k) for k, v in usersIdx.items()])\n",
    "    A = data[data.columns[[0,6,7,8]]]\n",
    "    # one hot encoding\n",
    "    one_hot = pd.get_dummies(data['platform'])\n",
    "    A = A.drop('platform',axis = 1)\n",
    "    A = A.join(one_hot)\n",
    "    one_hot = pd.get_dummies(data['device'])\n",
    "    A = A.drop('device',axis = 1)\n",
    "    A = A.join(one_hot)\n",
    "    \n",
    "    return A"
   ]
  },
  {
   "cell_type": "code",
   "execution_count": 7,
   "metadata": {},
   "outputs": [],
   "source": [
    "tr = encoding(train)"
   ]
  },
  {
   "cell_type": "code",
   "execution_count": 8,
   "metadata": {},
   "outputs": [],
   "source": [
    "te = encoding(test)"
   ]
  },
  {
   "cell_type": "code",
   "execution_count": 9,
   "metadata": {},
   "outputs": [
    {
     "name": "stdout",
     "output_type": "stream",
     "text": [
      "(15932992, 60)\n",
      "(3782335, 60)\n"
     ]
    }
   ],
   "source": [
    "print(tr.shape)\n",
    "print(te.shape)"
   ]
  },
  {
   "cell_type": "code",
   "execution_count": 17,
   "metadata": {},
   "outputs": [
    {
     "data": {
      "text/html": [
       "<div>\n",
       "<style scoped>\n",
       "    .dataframe tbody tr th:only-of-type {\n",
       "        vertical-align: middle;\n",
       "    }\n",
       "\n",
       "    .dataframe tbody tr th {\n",
       "        vertical-align: top;\n",
       "    }\n",
       "\n",
       "    .dataframe thead th {\n",
       "        text-align: right;\n",
       "    }\n",
       "</style>\n",
       "<table border=\"1\" class=\"dataframe\">\n",
       "  <thead>\n",
       "    <tr style=\"text-align: right;\">\n",
       "      <th></th>\n",
       "      <th>user_id</th>\n",
       "      <th>city</th>\n",
       "      <th>AA</th>\n",
       "      <th>AE</th>\n",
       "      <th>AR</th>\n",
       "      <th>AT</th>\n",
       "      <th>AU</th>\n",
       "      <th>BE</th>\n",
       "      <th>BG</th>\n",
       "      <th>BR</th>\n",
       "      <th>...</th>\n",
       "      <th>TR</th>\n",
       "      <th>TW</th>\n",
       "      <th>UK</th>\n",
       "      <th>US</th>\n",
       "      <th>UY</th>\n",
       "      <th>VN</th>\n",
       "      <th>ZA</th>\n",
       "      <th>desktop</th>\n",
       "      <th>mobile</th>\n",
       "      <th>tablet</th>\n",
       "    </tr>\n",
       "  </thead>\n",
       "  <tbody>\n",
       "    <tr>\n",
       "      <th>0</th>\n",
       "      <td>00RL8Z82B2Z1</td>\n",
       "      <td>Sydney, Australia</td>\n",
       "      <td>0</td>\n",
       "      <td>0</td>\n",
       "      <td>0</td>\n",
       "      <td>0</td>\n",
       "      <td>1</td>\n",
       "      <td>0</td>\n",
       "      <td>0</td>\n",
       "      <td>0</td>\n",
       "      <td>...</td>\n",
       "      <td>0</td>\n",
       "      <td>0</td>\n",
       "      <td>0</td>\n",
       "      <td>0</td>\n",
       "      <td>0</td>\n",
       "      <td>0</td>\n",
       "      <td>0</td>\n",
       "      <td>0</td>\n",
       "      <td>1</td>\n",
       "      <td>0</td>\n",
       "    </tr>\n",
       "    <tr>\n",
       "      <th>1</th>\n",
       "      <td>00RL8Z82B2Z1</td>\n",
       "      <td>Sydney, Australia</td>\n",
       "      <td>0</td>\n",
       "      <td>0</td>\n",
       "      <td>0</td>\n",
       "      <td>0</td>\n",
       "      <td>1</td>\n",
       "      <td>0</td>\n",
       "      <td>0</td>\n",
       "      <td>0</td>\n",
       "      <td>...</td>\n",
       "      <td>0</td>\n",
       "      <td>0</td>\n",
       "      <td>0</td>\n",
       "      <td>0</td>\n",
       "      <td>0</td>\n",
       "      <td>0</td>\n",
       "      <td>0</td>\n",
       "      <td>0</td>\n",
       "      <td>1</td>\n",
       "      <td>0</td>\n",
       "    </tr>\n",
       "    <tr>\n",
       "      <th>2</th>\n",
       "      <td>00RL8Z82B2Z1</td>\n",
       "      <td>Sydney, Australia</td>\n",
       "      <td>0</td>\n",
       "      <td>0</td>\n",
       "      <td>0</td>\n",
       "      <td>0</td>\n",
       "      <td>1</td>\n",
       "      <td>0</td>\n",
       "      <td>0</td>\n",
       "      <td>0</td>\n",
       "      <td>...</td>\n",
       "      <td>0</td>\n",
       "      <td>0</td>\n",
       "      <td>0</td>\n",
       "      <td>0</td>\n",
       "      <td>0</td>\n",
       "      <td>0</td>\n",
       "      <td>0</td>\n",
       "      <td>0</td>\n",
       "      <td>1</td>\n",
       "      <td>0</td>\n",
       "    </tr>\n",
       "    <tr>\n",
       "      <th>3</th>\n",
       "      <td>00RL8Z82B2Z1</td>\n",
       "      <td>Sydney, Australia</td>\n",
       "      <td>0</td>\n",
       "      <td>0</td>\n",
       "      <td>0</td>\n",
       "      <td>0</td>\n",
       "      <td>1</td>\n",
       "      <td>0</td>\n",
       "      <td>0</td>\n",
       "      <td>0</td>\n",
       "      <td>...</td>\n",
       "      <td>0</td>\n",
       "      <td>0</td>\n",
       "      <td>0</td>\n",
       "      <td>0</td>\n",
       "      <td>0</td>\n",
       "      <td>0</td>\n",
       "      <td>0</td>\n",
       "      <td>0</td>\n",
       "      <td>1</td>\n",
       "      <td>0</td>\n",
       "    </tr>\n",
       "    <tr>\n",
       "      <th>4</th>\n",
       "      <td>00RL8Z82B2Z1</td>\n",
       "      <td>Sydney, Australia</td>\n",
       "      <td>0</td>\n",
       "      <td>0</td>\n",
       "      <td>0</td>\n",
       "      <td>0</td>\n",
       "      <td>1</td>\n",
       "      <td>0</td>\n",
       "      <td>0</td>\n",
       "      <td>0</td>\n",
       "      <td>...</td>\n",
       "      <td>0</td>\n",
       "      <td>0</td>\n",
       "      <td>0</td>\n",
       "      <td>0</td>\n",
       "      <td>0</td>\n",
       "      <td>0</td>\n",
       "      <td>0</td>\n",
       "      <td>0</td>\n",
       "      <td>1</td>\n",
       "      <td>0</td>\n",
       "    </tr>\n",
       "    <tr>\n",
       "      <th>5</th>\n",
       "      <td>00RL8Z82B2Z1</td>\n",
       "      <td>Sydney, Australia</td>\n",
       "      <td>0</td>\n",
       "      <td>0</td>\n",
       "      <td>0</td>\n",
       "      <td>0</td>\n",
       "      <td>1</td>\n",
       "      <td>0</td>\n",
       "      <td>0</td>\n",
       "      <td>0</td>\n",
       "      <td>...</td>\n",
       "      <td>0</td>\n",
       "      <td>0</td>\n",
       "      <td>0</td>\n",
       "      <td>0</td>\n",
       "      <td>0</td>\n",
       "      <td>0</td>\n",
       "      <td>0</td>\n",
       "      <td>0</td>\n",
       "      <td>1</td>\n",
       "      <td>0</td>\n",
       "    </tr>\n",
       "    <tr>\n",
       "      <th>6</th>\n",
       "      <td>00RL8Z82B2Z1</td>\n",
       "      <td>Sydney, Australia</td>\n",
       "      <td>0</td>\n",
       "      <td>0</td>\n",
       "      <td>0</td>\n",
       "      <td>0</td>\n",
       "      <td>1</td>\n",
       "      <td>0</td>\n",
       "      <td>0</td>\n",
       "      <td>0</td>\n",
       "      <td>...</td>\n",
       "      <td>0</td>\n",
       "      <td>0</td>\n",
       "      <td>0</td>\n",
       "      <td>0</td>\n",
       "      <td>0</td>\n",
       "      <td>0</td>\n",
       "      <td>0</td>\n",
       "      <td>0</td>\n",
       "      <td>1</td>\n",
       "      <td>0</td>\n",
       "    </tr>\n",
       "    <tr>\n",
       "      <th>7</th>\n",
       "      <td>00RL8Z82B2Z1</td>\n",
       "      <td>Sydney, Australia</td>\n",
       "      <td>0</td>\n",
       "      <td>0</td>\n",
       "      <td>0</td>\n",
       "      <td>0</td>\n",
       "      <td>1</td>\n",
       "      <td>0</td>\n",
       "      <td>0</td>\n",
       "      <td>0</td>\n",
       "      <td>...</td>\n",
       "      <td>0</td>\n",
       "      <td>0</td>\n",
       "      <td>0</td>\n",
       "      <td>0</td>\n",
       "      <td>0</td>\n",
       "      <td>0</td>\n",
       "      <td>0</td>\n",
       "      <td>0</td>\n",
       "      <td>1</td>\n",
       "      <td>0</td>\n",
       "    </tr>\n",
       "    <tr>\n",
       "      <th>8</th>\n",
       "      <td>00RL8Z82B2Z1</td>\n",
       "      <td>Sydney, Australia</td>\n",
       "      <td>0</td>\n",
       "      <td>0</td>\n",
       "      <td>0</td>\n",
       "      <td>0</td>\n",
       "      <td>1</td>\n",
       "      <td>0</td>\n",
       "      <td>0</td>\n",
       "      <td>0</td>\n",
       "      <td>...</td>\n",
       "      <td>0</td>\n",
       "      <td>0</td>\n",
       "      <td>0</td>\n",
       "      <td>0</td>\n",
       "      <td>0</td>\n",
       "      <td>0</td>\n",
       "      <td>0</td>\n",
       "      <td>0</td>\n",
       "      <td>1</td>\n",
       "      <td>0</td>\n",
       "    </tr>\n",
       "    <tr>\n",
       "      <th>9</th>\n",
       "      <td>00RL8Z82B2Z1</td>\n",
       "      <td>Sydney, Australia</td>\n",
       "      <td>0</td>\n",
       "      <td>0</td>\n",
       "      <td>0</td>\n",
       "      <td>0</td>\n",
       "      <td>1</td>\n",
       "      <td>0</td>\n",
       "      <td>0</td>\n",
       "      <td>0</td>\n",
       "      <td>...</td>\n",
       "      <td>0</td>\n",
       "      <td>0</td>\n",
       "      <td>0</td>\n",
       "      <td>0</td>\n",
       "      <td>0</td>\n",
       "      <td>0</td>\n",
       "      <td>0</td>\n",
       "      <td>0</td>\n",
       "      <td>1</td>\n",
       "      <td>0</td>\n",
       "    </tr>\n",
       "  </tbody>\n",
       "</table>\n",
       "<p>10 rows × 60 columns</p>\n",
       "</div>"
      ],
      "text/plain": [
       "        user_id               city  AA  AE  AR  AT  AU  BE  BG  BR  ...  TR  \\\n",
       "0  00RL8Z82B2Z1  Sydney, Australia   0   0   0   0   1   0   0   0  ...   0   \n",
       "1  00RL8Z82B2Z1  Sydney, Australia   0   0   0   0   1   0   0   0  ...   0   \n",
       "2  00RL8Z82B2Z1  Sydney, Australia   0   0   0   0   1   0   0   0  ...   0   \n",
       "3  00RL8Z82B2Z1  Sydney, Australia   0   0   0   0   1   0   0   0  ...   0   \n",
       "4  00RL8Z82B2Z1  Sydney, Australia   0   0   0   0   1   0   0   0  ...   0   \n",
       "5  00RL8Z82B2Z1  Sydney, Australia   0   0   0   0   1   0   0   0  ...   0   \n",
       "6  00RL8Z82B2Z1  Sydney, Australia   0   0   0   0   1   0   0   0  ...   0   \n",
       "7  00RL8Z82B2Z1  Sydney, Australia   0   0   0   0   1   0   0   0  ...   0   \n",
       "8  00RL8Z82B2Z1  Sydney, Australia   0   0   0   0   1   0   0   0  ...   0   \n",
       "9  00RL8Z82B2Z1  Sydney, Australia   0   0   0   0   1   0   0   0  ...   0   \n",
       "\n",
       "   TW  UK  US  UY  VN  ZA  desktop  mobile  tablet  \n",
       "0   0   0   0   0   0   0        0       1       0  \n",
       "1   0   0   0   0   0   0        0       1       0  \n",
       "2   0   0   0   0   0   0        0       1       0  \n",
       "3   0   0   0   0   0   0        0       1       0  \n",
       "4   0   0   0   0   0   0        0       1       0  \n",
       "5   0   0   0   0   0   0        0       1       0  \n",
       "6   0   0   0   0   0   0        0       1       0  \n",
       "7   0   0   0   0   0   0        0       1       0  \n",
       "8   0   0   0   0   0   0        0       1       0  \n",
       "9   0   0   0   0   0   0        0       1       0  \n",
       "\n",
       "[10 rows x 60 columns]"
      ]
     },
     "execution_count": 17,
     "metadata": {},
     "output_type": "execute_result"
    }
   ],
   "source": [
    "tr[:10]"
   ]
  },
  {
   "cell_type": "code",
   "execution_count": null,
   "metadata": {},
   "outputs": [],
   "source": [
    "def reduction(A,rate=0.01,dimension=3):\n",
    "    B = A.groupby('user_id').sum()\n",
    "    B.values.shape\n",
    "    M = B.values\n",
    "    M = M/la.norm(M, 'fro')\n",
    "    pca = PCA(n_components=dimension)\n",
    "    pca.fit(M)\n",
    "    M = np.matmul(M,pca.components_.T)\n",
    "    return M "
   ]
  },
  {
   "cell_type": "code",
   "execution_count": 10,
   "metadata": {},
   "outputs": [],
   "source": [
    "def reduction(A,rate=0.01,dimension=3):\n",
    "    k = 1000\n",
    "    B = A[:k].groupby('user_id').sum()\n",
    "    B.values.shape\n",
    "    M = B.values\n",
    "    M = M/la.norm(M, 'fro')\n",
    "    pca = PCA(n_components=dimension)\n",
    "    pca.fit(M)\n",
    "    M = np.matmul(M,pca.components_.T)\n",
    "    return M "
   ]
  },
  {
   "cell_type": "code",
   "execution_count": 11,
   "metadata": {},
   "outputs": [],
   "source": [
    "A = reduction(tr)\n",
    "B = reduction(te)"
   ]
  },
  {
   "cell_type": "code",
   "execution_count": 12,
   "metadata": {},
   "outputs": [
    {
     "data": {
      "text/plain": [
       "(56, 3)"
      ]
     },
     "execution_count": 12,
     "metadata": {},
     "output_type": "execute_result"
    }
   ],
   "source": [
    "A.shape"
   ]
  },
  {
   "cell_type": "code",
   "execution_count": 13,
   "metadata": {},
   "outputs": [
    {
     "data": {
      "text/plain": [
       "(47, 3)"
      ]
     },
     "execution_count": 13,
     "metadata": {},
     "output_type": "execute_result"
    }
   ],
   "source": [
    "B.shape"
   ]
  },
  {
   "cell_type": "code",
   "execution_count": 14,
   "metadata": {},
   "outputs": [
    {
     "data": {
      "text/plain": [
       "KMeans(algorithm='auto', copy_x=True, init='k-means++', max_iter=300,\n",
       "       n_clusters=10, n_init=10, n_jobs=None, precompute_distances='auto',\n",
       "       random_state=0, tol=0.0001, verbose=0)"
      ]
     },
     "execution_count": 14,
     "metadata": {},
     "output_type": "execute_result"
    }
   ],
   "source": [
    "km = KMeans(n_clusters=10, random_state=0).fit(A)\n",
    "km"
   ]
  },
  {
   "cell_type": "code",
   "execution_count": 15,
   "metadata": {},
   "outputs": [
    {
     "data": {
      "text/plain": [
       "array([7, 0, 4, 1, 8, 1, 1, 1, 7, 1, 6, 1, 1, 7, 1, 7, 1, 1, 4, 5, 2, 1,\n",
       "       7, 1, 9, 1, 1, 5, 1, 1, 1, 1, 1, 1, 1, 3, 0, 1, 1, 1, 5, 1, 7, 1,\n",
       "       1, 1, 1, 1, 1, 5, 1, 4, 1, 7, 1, 1], dtype=int32)"
      ]
     },
     "execution_count": 15,
     "metadata": {},
     "output_type": "execute_result"
    }
   ],
   "source": [
    "km.labels_"
   ]
  },
  {
   "cell_type": "code",
   "execution_count": 16,
   "metadata": {},
   "outputs": [
    {
     "data": {
      "text/plain": [
       "array([1, 1, 1, 1, 5, 4, 1, 1, 5, 3, 1, 1, 1, 7, 4, 1, 1, 7, 1, 1, 1, 5,\n",
       "       1, 1, 7, 1, 1, 1, 1, 1, 1, 1, 1, 5, 1, 1, 8, 1, 1, 1, 1, 1, 1, 1,\n",
       "       5, 1, 2], dtype=int32)"
      ]
     },
     "execution_count": 16,
     "metadata": {},
     "output_type": "execute_result"
    }
   ],
   "source": [
    "km.predict(B)"
   ]
  }
 ],
 "metadata": {
  "kernelspec": {
   "display_name": "Python 3",
   "language": "python",
   "name": "python3"
  },
  "language_info": {
   "codemirror_mode": {
    "name": "ipython",
    "version": 3
   },
   "file_extension": ".py",
   "mimetype": "text/x-python",
   "name": "python",
   "nbconvert_exporter": "python",
   "pygments_lexer": "ipython3",
   "version": "3.5.2"
  }
 },
 "nbformat": 4,
 "nbformat_minor": 2
}
