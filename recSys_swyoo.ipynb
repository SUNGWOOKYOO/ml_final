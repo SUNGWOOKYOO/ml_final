{
 "cells": [
  {
   "cell_type": "code",
   "execution_count": 1,
   "metadata": {},
   "outputs": [],
   "source": [
    "import tensorflow as tf\n",
    "import pandas as pd\n",
    "import numpy as np\n",
    "import time\n",
    "import os"
   ]
  },
  {
   "cell_type": "markdown",
   "metadata": {},
   "source": [
    "## Preprocessing"
   ]
  },
  {
   "cell_type": "code",
   "execution_count": 2,
   "metadata": {},
   "outputs": [],
   "source": [
    "## set parameters\n",
    "#ROOT = 'PATH/TO/data/processed/'\n",
    "ROOT = '/home/kddlab/swyoo/data/'\n",
    "PATH_TO_TRAIN = ROOT + 'train_data.csv'\n",
    "PATH_TO_TEST = ROOT + 'test_data.csv'\n",
    "checkpoint_dir = './checkpoint'\n",
    "if not os.path.exists(checkpoint_dir): os.mkdir(checkpoint_dir)\n",
    "        \n",
    "layers = 1\n",
    "rnn_size = 100\n",
    "batch_size = 50\n",
    "drop_keep_prob = 0.7\n",
    "\n",
    "n_epochs = 10\n",
    "learning_rate = 0.001\n",
    "decay = 0.96\n",
    "decay_steps = 1e4\n",
    "grad_cap = 0\n",
    "print_step = 1e3"
   ]
  },
  {
   "cell_type": "code",
   "execution_count": 3,
   "metadata": {},
   "outputs": [],
   "source": [
    "## load data\n",
    "data = pd.read_csv(PATH_TO_TRAIN)\n",
    "valid = pd.read_csv(PATH_TO_TEST)"
   ]
  },
  {
   "cell_type": "code",
   "execution_count": 4,
   "metadata": {},
   "outputs": [],
   "source": [
    "data.columns = ['SessionId','ItemId','timestamp'] \n",
    "valid.columns = ['SessionId','ItemId','timestamp']"
   ]
  },
  {
   "cell_type": "code",
   "execution_count": 5,
   "metadata": {},
   "outputs": [],
   "source": [
    "data = data.sort_values(['SessionId', 'timestamp'], ascending=[True,True])\n",
    "valid = valid.sort_values(['SessionId', 'timestamp'], ascending=[True,True])"
   ]
  },
  {
   "cell_type": "code",
   "execution_count": 6,
   "metadata": {},
   "outputs": [
    {
     "data": {
      "text/plain": [
       "35788"
      ]
     },
     "execution_count": 6,
     "metadata": {},
     "output_type": "execute_result"
    }
   ],
   "source": [
    "len(data)"
   ]
  },
  {
   "cell_type": "code",
   "execution_count": 7,
   "metadata": {},
   "outputs": [
    {
     "name": "stdout",
     "output_type": "stream",
     "text": [
      "True\n",
      "True\n"
     ]
    }
   ],
   "source": [
    "## check sort data\n",
    "### preprocessing에서 session, timestamp로 sorting을 하였는데,\n",
    "### sorting이 중요하기 때문에 한번더 확인해본다.\n",
    "### data가 클경우 sort에서 시간이 오래 걸리기 때문에 sample check을 수행한다.\n",
    "def check_data_sort(dt, sample_check=False, sample_size=100):\n",
    "    if sample_check:\n",
    "        sess_ids = dt['SessionId'].unique()\n",
    "        sample_sess_ids = np.random.choice(sess_ids, sample_size, replace=False)\n",
    "        dt = dt[np.in1d(dt.SessionId, sample_sess_ids)]\n",
    "#     ordered_dt = dt.sort_values(['SessionId', 'timestamp'])\n",
    "    ordered_dt = dt.sort_values(['SessionId', 'timestamp'], ascending=[True,True])\n",
    "    return dt.equals(ordered_dt)\n",
    "\n",
    "print(check_data_sort(data, sample_check=True))\n",
    "print(check_data_sort(valid))"
   ]
  },
  {
   "cell_type": "code",
   "execution_count": 8,
   "metadata": {},
   "outputs": [
    {
     "name": "stdout",
     "output_type": "stream",
     "text": [
      "CPU times: user 15.5 ms, sys: 3.96 ms, total: 19.5 ms\n",
      "Wall time: 18.9 ms\n"
     ]
    },
    {
     "data": {
      "text/html": [
       "<div>\n",
       "<style scoped>\n",
       "    .dataframe tbody tr th:only-of-type {\n",
       "        vertical-align: middle;\n",
       "    }\n",
       "\n",
       "    .dataframe tbody tr th {\n",
       "        vertical-align: top;\n",
       "    }\n",
       "\n",
       "    .dataframe thead th {\n",
       "        text-align: right;\n",
       "    }\n",
       "</style>\n",
       "<table border=\"1\" class=\"dataframe\">\n",
       "  <thead>\n",
       "    <tr style=\"text-align: right;\">\n",
       "      <th></th>\n",
       "      <th>SessionId</th>\n",
       "      <th>ItemId</th>\n",
       "      <th>timestamp</th>\n",
       "      <th>ItemIdx</th>\n",
       "    </tr>\n",
       "  </thead>\n",
       "  <tbody>\n",
       "    <tr>\n",
       "      <th>29972</th>\n",
       "      <td>0041a3dd18ec7</td>\n",
       "      <td>7901298</td>\n",
       "      <td>1541343860</td>\n",
       "      <td>0</td>\n",
       "    </tr>\n",
       "    <tr>\n",
       "      <th>29973</th>\n",
       "      <td>0041a3dd18ec7</td>\n",
       "      <td>67361</td>\n",
       "      <td>1541344753</td>\n",
       "      <td>1</td>\n",
       "    </tr>\n",
       "    <tr>\n",
       "      <th>6654</th>\n",
       "      <td>0052e90367787</td>\n",
       "      <td>817581</td>\n",
       "      <td>1541215148</td>\n",
       "      <td>2</td>\n",
       "    </tr>\n",
       "    <tr>\n",
       "      <th>6655</th>\n",
       "      <td>0052e90367787</td>\n",
       "      <td>817581</td>\n",
       "      <td>1541215148</td>\n",
       "      <td>2</td>\n",
       "    </tr>\n",
       "    <tr>\n",
       "      <th>6656</th>\n",
       "      <td>0052e90367787</td>\n",
       "      <td>817581</td>\n",
       "      <td>1541215158</td>\n",
       "      <td>2</td>\n",
       "    </tr>\n",
       "  </tbody>\n",
       "</table>\n",
       "</div>"
      ],
      "text/plain": [
       "           SessionId   ItemId   timestamp  ItemIdx\n",
       "29972  0041a3dd18ec7  7901298  1541343860        0\n",
       "29973  0041a3dd18ec7    67361  1541344753        1\n",
       "6654   0052e90367787   817581  1541215148        2\n",
       "6655   0052e90367787   817581  1541215148        2\n",
       "6656   0052e90367787   817581  1541215158        2"
      ]
     },
     "execution_count": 8,
     "metadata": {},
     "output_type": "execute_result"
    }
   ],
   "source": [
    "## add item index \n",
    "### item id를 0번부터 index를 추가합니다.\n",
    "itemids = data['ItemId'].unique()\n",
    "n_items = len(itemids)\n",
    "itemidmap = pd.Series(data=np.arange(n_items), index=itemids).to_dict()\n",
    "%time data['ItemIdx'] = data['ItemId'].map(lambda x: itemidmap[x])\n",
    "data[:5]"
   ]
  },
  {
   "cell_type": "code",
   "execution_count": 9,
   "metadata": {},
   "outputs": [
    {
     "data": {
      "text/plain": [
       "array([ 0,  2, 35, 38, 50], dtype=int32)"
      ]
     },
     "execution_count": 9,
     "metadata": {},
     "output_type": "execute_result"
    }
   ],
   "source": [
    "## offset sessions\n",
    "### 각 세션의 시작점의 index list를 만든다.\n",
    "### 즉, 첫번째 sessionid 6의 시작점은 0이고 21의 시작점은 2 이다.\n",
    "offset_sessions = np.zeros(data['SessionId'].nunique()+1, dtype=np.int32)\n",
    "offset_sessions[1:] = data.groupby('SessionId').size().cumsum()\n",
    "offset_sessions[:5]"
   ]
  },
  {
   "cell_type": "markdown",
   "metadata": {},
   "source": [
    "## Prepare Model"
   ]
  },
  {
   "cell_type": "code",
   "execution_count": 10,
   "metadata": {},
   "outputs": [],
   "source": [
    "## placeholder & learning rate\n",
    "X = tf.placeholder(tf.int32, [batch_size], name='input')\n",
    "Y = tf.placeholder(tf.int32, [batch_size], name='output')\n",
    "States = [tf.placeholder(tf.float32, [batch_size, rnn_size], name='rnn_state') for _ in range(layers)]\n",
    "global_step = tf.Variable(0, name='global_step', trainable=False)\n",
    "lr = tf.maximum(1e-5,tf.train.exponential_decay(\n",
    "    learning_rate, global_step, decay_steps, decay, staircase=True\n",
    ")) \n",
    "\n",
    "## gru weigths\n",
    "### input item에 대한 embedding matrix 와\n",
    "### next item 즉 output을 위한 softmax W, b matrix를 구성한다.\n",
    "with tf.variable_scope('gru_layer', reuse=tf.AUTO_REUSE):\n",
    "    #sigma = sigma if sigma != 0 else np.sqrt(6.0 / (n_items + rnn_size))\n",
    "    #initializer = tf.random_uniform_initializer(minval=-sigma, maxval=sigma)\n",
    "    initializer = tf.glorot_uniform_initializer()\n",
    "    embedding = tf.get_variable('embedding', [n_items, rnn_size], initializer=initializer)\n",
    "    softmax_W = tf.get_variable('softmax_w', [n_items, rnn_size], initializer=initializer)\n",
    "    softmax_b = tf.get_variable('softmax_b', [n_items], initializer=tf.zeros_initializer())\n",
    "    \n",
    "## gru_cell\n",
    "### ㅁt => ㅁt+1 => ㅁt+2 => ... \n",
    "### 위와 같은 recurrent network에서 ㅁ. 즉, 단일 gru cell을 말한다.\n",
    "with tf.variable_scope('gru_cell', reuse=tf.AUTO_REUSE):\n",
    "    cell = tf.nn.rnn_cell.GRUCell(rnn_size, activation=tf.nn.tanh)\n",
    "    drop_cell = tf.nn.rnn_cell.DropoutWrapper(cell, output_keep_prob=drop_keep_prob)\n",
    "    stacked_cell = tf.nn.rnn_cell.MultiRNNCell([drop_cell] * layers)\n",
    "\n",
    "## feedforward gur_cell\n",
    "### 예를들어 seesion 1의 item sequence가 5, 7, 9 라면,\n",
    "### 첫번째 배치에서 아이템 5에 대하여 embedding 하여 inputs를 추출하고,\n",
    "### session 1의 초기 states로 부터 output과 final_state를 계산한다.\n",
    "### 두번째 배치에서는 아이템 7에 대한 inputs이 들어가고 아이템 5로 부터 계산된\n",
    "### final state로 아이템 7에 대한 output과 final_state가 다시 계산된다.\n",
    "### 즉, 배치 순서로 각 seesion의 item sequence가 recurrent하게 학습되는 것이다.\n",
    "inputs = tf.nn.embedding_lookup(embedding, X)\n",
    "output, state_ = stacked_cell(inputs, tuple(States))\n",
    "final_state = state_\n",
    "\n",
    "## calculate cost(loss)\n",
    "### 학습일 경우 negative sampling을 통해 \n",
    "### cross-entropy loss로 계산하였다. bpt, top1 loss는 주석처리 하였다. \n",
    "\n",
    "### for training\n",
    "sampled_W = tf.nn.embedding_lookup(softmax_W, Y)\n",
    "sampled_b = tf.nn.embedding_lookup(softmax_b, Y)\n",
    "logits = tf.matmul(output, sampled_W, transpose_b=True) + sampled_b\n",
    "### cross-entropy loss\n",
    "yhat = tf.nn.softmax(logits)\n",
    "cost = tf.reduce_mean(-tf.log(tf.diag_part(yhat)+1e-24))\n",
    "### bpr loss\n",
    "# yhat = logits\n",
    "# yhatT = tf.transpose(yhat)\n",
    "# cost = tf.reduce_mean(-tf.log(tf.nn.sigmoid(tf.diag_part(yhat)-yhatT)))\n",
    "### top1 loss\n",
    "# yhat = logits\n",
    "# yhatT = tf.transpose(yhat)\n",
    "# term1 = tf.reduce_mean(tf.nn.sigmoid(-tf.diag_part(yhat)+yhatT)+tf.nn.sigmoid(yhatT**2), axis=0)\n",
    "# term2 = tf.nn.sigmoid(tf.diag_part(yhat)**2) / batch_size\n",
    "# cost = tf.reduce_mean(term1 - term2)\n",
    "\n",
    "### for prediction\n",
    "logits_all = tf.matmul(output, softmax_W, transpose_b=True) + softmax_b\n",
    "yhat_all = tf.nn.softmax(logits_all)\n",
    "\n",
    "## calculate cost(loss)\n",
    "### 학습일 경우 negative sampling을 통해 \n",
    "### cross-entropy loss로 계산하였다. bpt, top1 loss는 주석처리 하였다. \n",
    "\n",
    "### for training\n",
    "sampled_W = tf.nn.embedding_lookup(softmax_W, Y)\n",
    "sampled_b = tf.nn.embedding_lookup(softmax_b, Y)\n",
    "logits = tf.matmul(output, sampled_W, transpose_b=True) + sampled_b\n",
    "### cross-entropy loss\n",
    "yhat = tf.nn.softmax(logits)\n",
    "cost = tf.reduce_mean(-tf.log(tf.diag_part(yhat)+1e-24))\n",
    "### bpr loss\n",
    "# yhat = logits\n",
    "# yhatT = tf.transpose(yhat)\n",
    "# cost = tf.reduce_mean(-tf.log(tf.nn.sigmoid(tf.diag_part(yhat)-yhatT)))\n",
    "### top1 loss\n",
    "# yhat = logits\n",
    "# yhatT = tf.transpose(yhat)\n",
    "# term1 = tf.reduce_mean(tf.nn.sigmoid(-tf.diag_part(yhat)+yhatT)+tf.nn.sigmoid(yhatT**2), axis=0)\n",
    "# term2 = tf.nn.sigmoid(tf.diag_part(yhat)**2) / batch_size\n",
    "# cost = tf.reduce_mean(term1 - term2)\n",
    "\n",
    "### for prediction\n",
    "logits_all = tf.matmul(output, softmax_W, transpose_b=True) + softmax_b\n",
    "yhat_all = tf.nn.softmax(logits_all)"
   ]
  },
  {
   "cell_type": "markdown",
   "metadata": {},
   "source": [
    "### understanding negative sampling & loss\n",
    "#### Negative sampling \n",
    "위 코드에서 Negative sampling이 어떻게 되는 것인지 이해해보자. <br>\n",
    "Y 즉, 정답(label) item에 대한 softmax weight 만 추출하여 logit 및 yhat을 계산하고 loss를 계산하는데,\n",
    "이는 배치 하나의 정답셋(아이템)에 대하여 나머지 item(49개)을 negative로 두어 loss를 계산하는 방식이다.\n",
    "(나머지 item 중 정답셋과 중복이 되면 어떻게 되나???)\n",
    "예를 들어 50개의 배치에 rnn out size가 20이라면, output의 shape은 (50, 20)이 될것이다.\n",
    "sampled_W, sampled_b는 각각 (50, 20), (50,)가 될 것이다. 그리고 output shape은 (50, 50)이 된다.\n",
    "마지막으로 각 row별 softmax를 취해 yhat을 계산한다.\n",
    "하나의 row(배치 하나)를 봤을 때, [n, n] 위치가 해당 배치의 정답 item의 yhat 값이 된다.\n",
    "\n",
    "#### Ranking Loss \n",
    "softmax cross-entropy loss는 위와 같이 logits값을 softmax한 후 정답 item의 값에 대해 위와같이 간단하게 계산할 수 있다.\n",
    "(단점으로 negative item 중 positive item과 중복이 발생할 수 있는데 이는 loss를 크게 만들 것으로 보인다.)\n",
    "논문에 나오는 BPR loss와 TOP1 loss를 알아보자.\n",
    "\n",
    "BPR loss <br>\n",
    "$L_s = - \\frac{1}{N_s} \\cdot \\sum_{j=1}^{N_s} \\text{log}(\\sigma(\\hat{r}_{s,i} -\\hat{r}_{s,j}))$ <br>\n",
    "$N_s$: sample size，$\\hat{r}_{s,i}$: yhat of positive sample， $\\hat{r}_{s,j}$: yhat of positive sample\n",
    "\n",
    "postive - negative값에 시그모이드 한 값을 사용하였다. <br>\n",
    "의미론적으로 보면, pos - neg 값이 클수록 잘 예측된 것이고, 이는 sigmoid 후 1에 가까워 진다. 즉, log변환을 통해 0에 가까워 지므로 적은 loss를 갖는다. 반대로 pos - neg 값이 음수이면 잘 못 예측한 것이고 결국 loss가 커지게 되는 것이다. <br>\n",
    "코드로 이해하면, tf.diag_part는 logits의 대각행렬 즉, pos 값을 추출한 것이고 shape은 (50,)가 된다. <br>\n",
    "neg 값과 차를 계산하기 위해 logits 값을 transpose하여 차를 계산하고 sigmoid후 loss를 계산하는 것이다. <br>\n",
    "\n",
    "TOP loss <br>\n",
    "$L_s = \\frac{1}{N_s} \\cdot \\sum_{j=1}^{N_s} (\\sigma(\\hat{r}_{s,j} - \\hat{r}_{s,i})) +\\sigma(\\hat{r^2_j})$ <br>\n",
    "\n",
    "log를 loss를 빼고, bpr과 반대로 neg - pos 값을 사용하였다. <br>\n",
    "의미론 적으로, 잘 예측 했다면 pos는 크고 neg는 작기 때문에 음의 값이 될 것이다. sigmoid드 후 0에 가까워 질 것 이다. 즉 첫번째 loss 텀이 0에 가까워 질 것이다. 값을 잘 예측하지 못한다면 양의 값이 될 것이고 loss 텀이 1에 가까워 질 것이다. <br>\n",
    "만약 pos값을 크게 예측하였다. 하지만, neg값 역시 크게 예측되었다면, 좋은 예측은 아닐 것이다. neg 값은 작아져야 하기 때문에, 이러한 경우에 오른쪽 정규화 텀으로부터 높은 neg값에 penalty를 부여하는 것이다. <br>\n",
    "위 코드에서 term1이 위와 같은 것이고, term2는 저자 코드를 확인해봐도 사용하고 있는데 계정판에서 추가된 것으로 보인다. <br> term1에서도 정규화 텀에서도 yhatT의 값을 전부 사용했는데, 큰차이가 없어서 그런 것인지? 명확하게는 대각행렬인 pos 값은 제외해야 하는 것이 아닌지 생각이 든다."
   ]
  },
  {
   "cell_type": "code",
   "execution_count": 11,
   "metadata": {},
   "outputs": [],
   "source": [
    "## optimize\n",
    "### Adam optimizer를 사용한다.\n",
    "optimizer = tf.train.AdamOptimizer(lr)\n",
    "### grad_cap>0 다면, minimize시 gradient cliping을 수행한다.\n",
    "### gradient cliping을 수행하는 이유는 다음 블로그 참조 (https://dhhwang89.tistory.com/90)\n",
    "### 간략하게 학습 중에 gradient가 급격하게 변하는 지점이 발생할 수 있는데, 이는 기존 minima를 찾아가는 방향이 \n",
    "### 급변할 수 있기 때문에, 이를 방지하기 위해 수행한다.\n",
    "### 본 학습에서는 cliping을 하지 않는데, 유사하게 learning rate decay을 사용하기 때문인 것으로 생각됨.\n",
    "tvars = tf.trainable_variables()\n",
    "gvs = optimizer.compute_gradients(cost, tvars)\n",
    "if grad_cap > 0:\n",
    "    capped_gvs = [(tf.clip_by_norm(grad, grad_cap), var) for grad, var in gvs]\n",
    "else:\n",
    "    capped_gvs = gvs \n",
    "train_op = optimizer.apply_gradients(capped_gvs, global_step=global_step)"
   ]
  },
  {
   "cell_type": "markdown",
   "metadata": {},
   "source": [
    "## Training"
   ]
  },
  {
   "cell_type": "code",
   "execution_count": 12,
   "metadata": {},
   "outputs": [],
   "source": [
    "## session start\n",
    "sess = tf.Session()\n",
    "sess.run(tf.global_variables_initializer())\n",
    "saver = tf.train.Saver(tf.global_variables())"
   ]
  },
  {
   "cell_type": "code",
   "execution_count": 13,
   "metadata": {
    "scrolled": true
   },
   "outputs": [
    {
     "name": "stdout",
     "output_type": "stream",
     "text": [
      "Epoch 0\tStep 1\tlr: 0.00100\tloss: 3.9119\tElapsed: 0.1\n",
      "Epoch 1\tStep 1000\tlr: 0.00100\tloss: 1.9820\tElapsed: 5.5\n",
      "Epoch 3\tStep 2000\tlr: 0.00100\tloss: 0.4537\tElapsed: 10.9\n",
      "Epoch 4\tStep 3000\tlr: 0.00100\tloss: 0.1514\tElapsed: 16.2\n",
      "Epoch 6\tStep 4000\tlr: 0.00100\tloss: 0.0436\tElapsed: 21.6\n",
      "Epoch 7\tStep 5000\tlr: 0.00100\tloss: 0.0274\tElapsed: 26.9\n",
      "Epoch 9\tStep 6000\tlr: 0.00100\tloss: 0.0159\tElapsed: 32.3\n",
      "1 epoch elapsed time: 33.81022095680237\n"
     ]
    }
   ],
   "source": [
    "## training\n",
    "### 위 data feeding에서 in_idx, out_idx 후에 실제 학습을 수행하여, \n",
    "### epoch만큼 학습을 진행한다.\n",
    "tic = time.time()\n",
    "for epoch in range(n_epochs):\n",
    "    epoch_cost = []\n",
    "    state = [np.zeros([batch_size, rnn_size], dtype=np.float32) for _ in range(layers)]\n",
    "    iters = np.arange(batch_size)\n",
    "    maxiter = iters.max()\n",
    "    \n",
    "    start = offset_sessions[iters]\n",
    "    end = offset_sessions[iters+1]\n",
    "    \n",
    "    finished = False\n",
    "    while not finished:\n",
    "        minlen = (end-start).min()\n",
    "        out_idx = data.ItemIdx.values[start]\n",
    "        for i in range(minlen-1):\n",
    "            in_idx = out_idx\n",
    "            out_idx = data.ItemIdx.values[start+i+1]\n",
    "            # prepare inputs, targeted outputs and hidden states\n",
    "            fetches = [cost, final_state, global_step, lr, train_op]\n",
    "            feed_dict = {X: in_idx, Y: out_idx}\n",
    "            for j in range(layers): \n",
    "                feed_dict[States[j]] = state[j]\n",
    "            \n",
    "            cost_, state, step, lr_, _ = sess.run(fetches, feed_dict)\n",
    "            epoch_cost.append(cost_)\n",
    "                \n",
    "            if step == 1 or step % print_step == 0:\n",
    "                avgc = np.mean(epoch_cost)\n",
    "                print('Epoch {}\\tStep {}\\tlr: {:.5f}\\tloss: {:.4f}\\tElapsed: {:.1f}'.\n",
    "                      format(epoch, step, lr_, avgc, time.time()-tic))\n",
    "\n",
    "        start = start+minlen-1\n",
    "        mask = np.arange(len(iters))[(end-start)<=1]\n",
    "        for idx in mask:\n",
    "            maxiter += 1\n",
    "            if maxiter >= len(offset_sessions)-1:\n",
    "                finished = True\n",
    "                break\n",
    "            iters[idx] = maxiter\n",
    "            start[idx] = offset_sessions[maxiter]\n",
    "            end[idx] = offset_sessions[maxiter+1]\n",
    "        if len(mask):\n",
    "            for i in range(layers):\n",
    "                state[i][mask] = 0\n",
    "        \n",
    "    avgc = np.mean(epoch_cost)\n",
    "    if np.isnan(avgc):\n",
    "        print('Epoch {}: Nan error!'.format(epoch, avgc))\n",
    "        break\n",
    "    saver.save(sess, '{}/gru-model'.format(checkpoint_dir), global_step=epoch)\n",
    "print(\"1 epoch elapsed time:\", time.time() - tic)"
   ]
  },
  {
   "cell_type": "code",
   "execution_count": 14,
   "metadata": {},
   "outputs": [],
   "source": [
    "sess.close()"
   ]
  },
  {
   "cell_type": "markdown",
   "metadata": {
    "collapsed": true
   },
   "source": [
    "## Prediction & Evaluation\n",
    "valid(test) 데이터에 대하여 예측과 평가를 수행한다.\n",
    "\n",
    "evaluation metric\n",
    "1. Recall@20\n",
    "    - 예측한 top 20 아이템 중에 정답 아이템이 있는지 1 or 0으로 평가 후 전체를 평균함\n",
    "2. MRR@20 (mean reciprocal rank)\n",
    "    - 정답 아이템의 rank의 역수를 취한 후 전체를 평균함\n",
    "    - $mrr = \\frac{1}{N} \\sum\\limits_{i=1}^{N} {\\frac{1}{rank_{i}}}$\n",
    "    - rank가 20위 안에 들지 않으면 0으로 처리한다."
   ]
  },
  {
   "cell_type": "code",
   "execution_count": 15,
   "metadata": {},
   "outputs": [],
   "source": [
    "## parameters\n",
    "cut_off = 20     # @20\n",
    "batch_size = 50"
   ]
  },
  {
   "cell_type": "code",
   "execution_count": 16,
   "metadata": {},
   "outputs": [
    {
     "name": "stdout",
     "output_type": "stream",
     "text": [
      "INFO:tensorflow:Restoring parameters from ./checkpoint/gru-model-9\n"
     ]
    }
   ],
   "source": [
    "## session restore\n",
    "### 마지막(최신) 학습 checkpoint 정보를 restore한다.\n",
    "sess = tf.Session()\n",
    "saver = tf.train.Saver(tf.global_variables())\n",
    "ckpt = tf.train.latest_checkpoint(checkpoint_dir)\n",
    "saver.restore(sess, ckpt)"
   ]
  },
  {
   "cell_type": "code",
   "execution_count": 17,
   "metadata": {},
   "outputs": [],
   "source": [
    "def isfloat(value):\n",
    "    try:\n",
    "        float(value)\n",
    "        return True\n",
    "    except ValueError:\n",
    "        \n",
    "        return False\n",
    "    \n",
    "def f1(x):\n",
    "    if not isfloat(x):\n",
    "        return  \n",
    "    elif int(float(x)) not in itemidmap:\n",
    "        return\n",
    "    else:\n",
    "        return int(itemidmap[int(float(x))])"
   ]
  },
  {
   "cell_type": "code",
   "execution_count": 18,
   "metadata": {},
   "outputs": [
    {
     "data": {
      "text/html": [
       "<div>\n",
       "<style scoped>\n",
       "    .dataframe tbody tr th:only-of-type {\n",
       "        vertical-align: middle;\n",
       "    }\n",
       "\n",
       "    .dataframe tbody tr th {\n",
       "        vertical-align: top;\n",
       "    }\n",
       "\n",
       "    .dataframe thead th {\n",
       "        text-align: right;\n",
       "    }\n",
       "</style>\n",
       "<table border=\"1\" class=\"dataframe\">\n",
       "  <thead>\n",
       "    <tr style=\"text-align: right;\">\n",
       "      <th></th>\n",
       "      <th>SessionId</th>\n",
       "      <th>ItemId</th>\n",
       "      <th>timestamp</th>\n",
       "      <th>ItemIdx</th>\n",
       "    </tr>\n",
       "  </thead>\n",
       "  <tbody>\n",
       "    <tr>\n",
       "      <th>700931</th>\n",
       "      <td>000138ab4f789</td>\n",
       "      <td>152444</td>\n",
       "      <td>1541446323</td>\n",
       "      <td>1782</td>\n",
       "    </tr>\n",
       "    <tr>\n",
       "      <th>700937</th>\n",
       "      <td>000138ab4f789</td>\n",
       "      <td>152444</td>\n",
       "      <td>1541447303</td>\n",
       "      <td>1782</td>\n",
       "    </tr>\n",
       "  </tbody>\n",
       "</table>\n",
       "</div>"
      ],
      "text/plain": [
       "            SessionId  ItemId   timestamp  ItemIdx\n",
       "700931  000138ab4f789  152444  1541446323     1782\n",
       "700937  000138ab4f789  152444  1541447303     1782"
      ]
     },
     "metadata": {},
     "output_type": "display_data"
    },
    {
     "name": "stdout",
     "output_type": "stream",
     "text": [
      "413968\n"
     ]
    }
   ],
   "source": [
    "valid['ItemIdx'] = valid['ItemId'].map(f1)\n",
    "valid = valid.dropna()\n",
    "valid.ItemIdx = valid.ItemIdx.astype('int') \n",
    "display(valid[:2])\n",
    "print(len(valid))"
   ]
  },
  {
   "cell_type": "code",
   "execution_count": 19,
   "metadata": {},
   "outputs": [
    {
     "data": {
      "text/html": [
       "<div>\n",
       "<style scoped>\n",
       "    .dataframe tbody tr th:only-of-type {\n",
       "        vertical-align: middle;\n",
       "    }\n",
       "\n",
       "    .dataframe tbody tr th {\n",
       "        vertical-align: top;\n",
       "    }\n",
       "\n",
       "    .dataframe thead th {\n",
       "        text-align: right;\n",
       "    }\n",
       "</style>\n",
       "<table border=\"1\" class=\"dataframe\">\n",
       "  <thead>\n",
       "    <tr style=\"text-align: right;\">\n",
       "      <th></th>\n",
       "      <th>SessionId</th>\n",
       "      <th>ItemId</th>\n",
       "      <th>timestamp</th>\n",
       "      <th>ItemIdx</th>\n",
       "    </tr>\n",
       "  </thead>\n",
       "  <tbody>\n",
       "    <tr>\n",
       "      <th>700931</th>\n",
       "      <td>000138ab4f789</td>\n",
       "      <td>152444</td>\n",
       "      <td>1541446323</td>\n",
       "      <td>1782</td>\n",
       "    </tr>\n",
       "    <tr>\n",
       "      <th>700937</th>\n",
       "      <td>000138ab4f789</td>\n",
       "      <td>152444</td>\n",
       "      <td>1541447303</td>\n",
       "      <td>1782</td>\n",
       "    </tr>\n",
       "    <tr>\n",
       "      <th>700938</th>\n",
       "      <td>000138ab4f789</td>\n",
       "      <td>152444</td>\n",
       "      <td>1541447344</td>\n",
       "      <td>1782</td>\n",
       "    </tr>\n",
       "    <tr>\n",
       "      <th>467565</th>\n",
       "      <td>000195d02a8a9</td>\n",
       "      <td>4028176</td>\n",
       "      <td>1541382865</td>\n",
       "      <td>1488</td>\n",
       "    </tr>\n",
       "    <tr>\n",
       "      <th>467566</th>\n",
       "      <td>000195d02a8a9</td>\n",
       "      <td>4028176</td>\n",
       "      <td>1541382874</td>\n",
       "      <td>1488</td>\n",
       "    </tr>\n",
       "  </tbody>\n",
       "</table>\n",
       "</div>"
      ],
      "text/plain": [
       "            SessionId   ItemId   timestamp  ItemIdx\n",
       "700931  000138ab4f789   152444  1541446323     1782\n",
       "700937  000138ab4f789   152444  1541447303     1782\n",
       "700938  000138ab4f789   152444  1541447344     1782\n",
       "467565  000195d02a8a9  4028176  1541382865     1488\n",
       "467566  000195d02a8a9  4028176  1541382874     1488"
      ]
     },
     "execution_count": 19,
     "metadata": {},
     "output_type": "execute_result"
    }
   ],
   "source": [
    "## valdation data set\n",
    "valid['ItemIdx'] = valid['ItemId'].map(lambda x: itemidmap[x])\n",
    "valid[:5]"
   ]
  },
  {
   "cell_type": "code",
   "execution_count": 20,
   "metadata": {},
   "outputs": [
    {
     "data": {
      "text/plain": [
       "array([  0,   3,   9, 114, 216], dtype=int32)"
      ]
     },
     "execution_count": 20,
     "metadata": {},
     "output_type": "execute_result"
    }
   ],
   "source": [
    "## valid offset sessions\n",
    "### 위 학습과 동일하게 각 세션의 시작점의 index list를 만든다.\n",
    "offset_sessions = np.zeros(valid['SessionId'].nunique()+1, dtype=np.int32)\n",
    "offset_sessions[1:] = valid.groupby('SessionId').size().cumsum()\n",
    "offset_sessions[:5]"
   ]
  },
  {
   "cell_type": "code",
   "execution_count": 21,
   "metadata": {},
   "outputs": [],
   "source": [
    "## init prediction\n",
    "### 예측 세션의 배치 사이즈 보다 작을 경우 배치 사이즈를 조정한다.\n",
    "if len(offset_sessions) - 1 < batch_size:\n",
    "    batch_size = len(offset_sessions) - 1\n",
    "### training step과 동일\n",
    "iters = np.arange(batch_size).astype(np.int32)\n",
    "maxiter = iters.max()\n",
    "start = offset_sessions[iters]\n",
    "end = offset_sessions[iters+1]\n",
    "in_idx = np.zeros(batch_size, dtype=np.int32)\n",
    "predict_state = [np.zeros([batch_size, rnn_size], dtype=np.float32) for _ in range(layers)]"
   ]
  },
  {
   "cell_type": "code",
   "execution_count": 22,
   "metadata": {},
   "outputs": [
    {
     "name": "stdout",
     "output_type": "stream",
     "text": [
      "break at endpoint 391521\n",
      "recall:  0.6413117048638515 mrr: 0.5364855236310331 elapsed time: 41.28398871421814\n"
     ]
    }
   ],
   "source": [
    "## prediction & evaluation\n",
    "### data feeding 요약\n",
    "### 학습과는 조금 다르게 valid_mask를 설정하여, batch placeholder에 더이상 feed할 세션이 없어지면,\n",
    "### 해당 위치를 꺼가는 방식으로 모든 batch placeholder가 없어질 때까지 feed하는 것이다.\n",
    "evalutation_point_count = 0\n",
    "mrr, recall = 0.0, 0.0\n",
    "tic = time.time()\n",
    "while True:\n",
    "    ### iters는 batch placeholder로 0보다 큰 즉, 마지막 세션까지는 모든 위치를 켜두고\n",
    "    ### 아래에서 session 데이터가 다 소진되면 해당 위치를 -1로 할당할 것이다.\n",
    "    ### valid_mask가 0이 되면 즉 모든 위치가 꺼지면 학습을 종료한다.\n",
    "    valid_mask = iters >= 0\n",
    "    if valid_mask.sum() == 0:\n",
    "        print(\"break at endpoint\", evalutation_point_count)\n",
    "        break\n",
    "        \n",
    "    start_valid = start[valid_mask]\n",
    "    minlen = (end[valid_mask]-start_valid).min()\n",
    "    in_idx[valid_mask] = valid.ItemIdx.values[start_valid]\n",
    "    \n",
    "    for i in range(minlen-1):\n",
    "        out_idx = valid.ItemIdx.values[start_valid+i+1]\n",
    "        ## --- prediction --- ##\n",
    "        fetches = [yhat_all, final_state]\n",
    "        feed_dict = {X: in_idx}\n",
    "        for j in range(layers): \n",
    "            feed_dict[States[j]] = predict_state[j]\n",
    "        preds, predict_state = sess.run(fetches, feed_dict)\n",
    "        preds = pd.DataFrame(data=np.asarray(preds).T)\n",
    "        preds.fillna(0, inplace=True) ### preds shape: (item_size, batch_size)\n",
    "        ## --- evaluation --- ##\n",
    "        in_idx[valid_mask] = out_idx\n",
    "        ### 정답 아이템 prediction 값보다 높은 아이템이 몇개인지 카운트 하여 rank를 계산한다.\n",
    "        ranks = (preds.values.T[valid_mask].T > \n",
    "                 np.diag(preds.loc[in_idx].values)[valid_mask]).sum(axis=0) + 1\n",
    "        ### cutoff에 따른 recall과 mrr을 계산한다.\n",
    "        rank_ok = ranks < cut_off\n",
    "        recall += rank_ok.sum()\n",
    "        mrr += (1.0 / ranks[rank_ok]).sum()\n",
    "        evalutation_point_count += len(ranks)\n",
    "        \n",
    "    start = start+minlen-1\n",
    "    mask = np.arange(len(iters))[(valid_mask) & (end-start<=1)]\n",
    "    \n",
    "    for idx in mask:\n",
    "        maxiter += 1\n",
    "        ## 더 이상 할당할 세션이 없으면 해당 위치에 -1을 할당하여 끈다.\n",
    "        if maxiter >= len(offset_sessions)-1:\n",
    "            iters[idx] = -1\n",
    "        else:\n",
    "            iters[idx] = maxiter\n",
    "            start[idx] = offset_sessions[maxiter]\n",
    "            end[idx] = offset_sessions[maxiter+1]\n",
    "            \n",
    "    if len(mask):\n",
    "        for i in range(layers):\n",
    "            predict_state[i][mask] = 0\n",
    "\n",
    "### 최종 matric을 계산함.\n",
    "recall = recall/evalutation_point_count\n",
    "mrr = mrr/evalutation_point_count\n",
    "print(\"recall: \", recall, \"mrr:\", mrr, \"elapsed time:\", time.time()-tic)"
   ]
  },
  {
   "cell_type": "code",
   "execution_count": 23,
   "metadata": {},
   "outputs": [
    {
     "name": "stdout",
     "output_type": "stream",
     "text": [
      "391521\n",
      "391521\n"
     ]
    }
   ],
   "source": [
    "### 모든 데이터가 다 사용되었는지 검증.\n",
    "print(evalutation_point_count)\n",
    "print(sum(valid.groupby('SessionId').size() - 1))"
   ]
  },
  {
   "cell_type": "code",
   "execution_count": 24,
   "metadata": {},
   "outputs": [
    {
     "name": "stdout",
     "output_type": "stream",
     "text": [
      "query: \n",
      "clicked_item_id:  1134\n",
      "submission:  [1134  368 2105 1135 1289 1290 2568 1849  196  577 1346  367 1620 1719\n",
      "   43 1424 2482  901 2493 1094 1642  347 2152 1356 1396]\n"
     ]
    }
   ],
   "source": [
    "fetches = [yhat_all, final_state]\n",
    "feed_dict = {X: in_idx}\n",
    "for j in range(layers): \n",
    "            feed_dict[States[j]] = predict_state[j]        \n",
    "preds = sess.run(yhat_all, feed_dict)\n",
    "top_25_idx = np.argsort(preds, axis=1)[...,-25:]\n",
    "#print(top_25_idx.shape)\n",
    "clicked_it_idx = in_idx[-1]\n",
    "submission = np.flip(top_25_idx[-1]) # decending order of impression\n",
    "print(\"query: \")\n",
    "print(\"clicked_item_id: \", clicked_it_idx)\n",
    "print(\"submission: \", submission)"
   ]
  },
  {
   "cell_type": "code",
   "execution_count": 25,
   "metadata": {},
   "outputs": [],
   "source": [
    "# sess.close()"
   ]
  }
 ],
 "metadata": {
  "kernelspec": {
   "display_name": "Python 3",
   "language": "python",
   "name": "python3"
  },
  "language_info": {
   "codemirror_mode": {
    "name": "ipython",
    "version": 3
   },
   "file_extension": ".py",
   "mimetype": "text/x-python",
   "name": "python",
   "nbconvert_exporter": "python",
   "pygments_lexer": "ipython3",
   "version": "3.5.2"
  }
 },
 "nbformat": 4,
 "nbformat_minor": 2
}
